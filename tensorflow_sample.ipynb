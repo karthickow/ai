{
  "nbformat": 4,
  "nbformat_minor": 0,
  "metadata": {
    "colab": {
      "provenance": [],
      "authorship_tag": "ABX9TyMA9WLuHbHbBm/+94fQLtDP",
      "include_colab_link": true
    },
    "kernelspec": {
      "name": "python3",
      "display_name": "Python 3"
    },
    "language_info": {
      "name": "python"
    }
  },
  "cells": [
    {
      "cell_type": "markdown",
      "metadata": {
        "id": "view-in-github",
        "colab_type": "text"
      },
      "source": [
        "<a href=\"https://colab.research.google.com/github/karthickow/ai/blob/main/tensorflow_sample.ipynb\" target=\"_parent\"><img src=\"https://colab.research.google.com/assets/colab-badge.svg\" alt=\"Open In Colab\"/></a>"
      ]
    },
    {
      "cell_type": "code",
      "execution_count": 40,
      "metadata": {
        "colab": {
          "base_uri": "https://localhost:8080/"
        },
        "id": "y23GoxP9G4Vk",
        "outputId": "f5bb0e0c-0704-4aa2-c71a-b473d5089ec7"
      },
      "outputs": [
        {
          "output_type": "stream",
          "name": "stdout",
          "text": [
            "2.14.0\n",
            "[[0. 1. 2.]\n",
            " [3. 4. 5.]\n",
            " [6. 7. 8.]]\n",
            "[[ 9. 10. 11.]\n",
            " [12. 13. 14.]\n",
            " [15. 16. 17.]]\n",
            "2\n",
            "(3, 3)\n",
            "float64\n",
            "tf.Tensor(\n",
            "[[0. 1. 2.]\n",
            " [3. 4. 5.]\n",
            " [6. 7. 8.]], shape=(3, 3), dtype=float64)\n",
            "\n",
            "Matrix addition\n",
            "\n",
            " tf.Tensor(\n",
            "[[ 9. 11. 13.]\n",
            " [15. 17. 19.]\n",
            " [21. 23. 25.]], shape=(3, 3), dtype=float64)\n",
            "\n",
            "Matrix multiplication\n",
            "\n",
            " tf.Tensor(\n",
            "[[ 42.  45.  48.]\n",
            " [150. 162. 174.]\n",
            " [258. 279. 300.]], shape=(3, 3), dtype=float64)\n",
            "\n",
            "Matrix determinant\n",
            "\n",
            " tf.Tensor(0.0, shape=(), dtype=float64)\n"
          ]
        }
      ],
      "source": [
        "import tensorflow as tf\n",
        "import numpy as np\n",
        "\n",
        "print(tf.__version__)\n",
        "\n",
        "a = tf.constant([1, 2, 3, 5])\n",
        "b = tf.constant([5, 2, 3, 4])\n",
        "\n",
        "res = tf.multiply(a, b)\n",
        "#print(tf.rank(a))\n",
        "#print(res)\n",
        "\n",
        "array_2d_1 = np.array(np.arange(9).reshape(3, 3), dtype='float')\n",
        "array_2d_2 = np.array(np.arange(9,18).reshape(3,3), dtype='float')\n",
        "\n",
        "\n",
        "print(array_2d_1)\n",
        "print(array_2d_2)\n",
        "print(array_2d_1.ndim)\n",
        "print(array_2d_1.shape)\n",
        "print(array_2d_1.dtype)\n",
        "\n",
        "tensor_2d_1 = tf.convert_to_tensor(array_2d_1)\n",
        "tensor_2d_2 = tf.convert_to_tensor(array_2d_2)\n",
        "\n",
        "print(tensor_2d_1)\n",
        "print('\\nMatrix addition\\n\\n', tf.add(tensor_2d_1, tensor_2d_2))\n",
        "print('\\nMatrix multiplication\\n\\n', tf.matmul(tensor_2d_1, tensor_2d_2))\n",
        "print('\\nMatrix determinant\\n\\n', tf.linalg.det(tensor_2d_1))"
      ]
    }
  ]
}